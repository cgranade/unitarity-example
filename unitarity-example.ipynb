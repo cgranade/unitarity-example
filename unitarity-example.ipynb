{
 "cells": [
  {
   "cell_type": "code",
   "execution_count": 1,
   "metadata": {
    "collapsed": false
   },
   "outputs": [
    {
     "name": "stderr",
     "output_type": "stream",
     "text": [
      "C:\\Anaconda2\\envs\\unitarity-example\\lib\\site-packages\\matplotlib\\__init__.py:872: UserWarning: axes.color_cycle is deprecated and replaced with axes.prop_cycle; please use the latter.\n",
      "  warnings.warn(self.msg_depr % (key, alt_key))\n"
     ]
    }
   ],
   "source": [
    "from __future__ import division, print_function\n",
    "%matplotlib inline\n",
    "%config InlineBackend.print_figure_kwargs = {'dpi' : 150}"
   ]
  },
  {
   "cell_type": "markdown",
   "metadata": {},
   "source": [
    "We begin by importing NumPy and QuTiP. Note that we rely here on the 3.2.0 prerelease of QuTiP."
   ]
  },
  {
   "cell_type": "code",
   "execution_count": 2,
   "metadata": {
    "collapsed": false
   },
   "outputs": [],
   "source": [
    "import numpy as np\n",
    "import qutip as qt\n",
    "from scipy.optimize import curve_fit\n",
    "from functools import partial"
   ]
  },
  {
   "cell_type": "code",
   "execution_count": 3,
   "metadata": {
    "collapsed": true
   },
   "outputs": [],
   "source": [
    "import matplotlib.pyplot as plt\n",
    "try: plt.style.use('ggplot')\n",
    "except: pass"
   ]
  },
  {
   "cell_type": "markdown",
   "metadata": {},
   "source": [
    "Next, we'll define the Clifford group $C_1$ as superoperators so that we can sample from it later."
   ]
  },
  {
   "cell_type": "code",
   "execution_count": 4,
   "metadata": {
    "collapsed": false
   },
   "outputs": [
    {
     "data": {
      "text/plain": [
       "24"
      ]
     },
     "execution_count": 4,
     "metadata": {},
     "output_type": "execute_result"
    }
   ],
   "source": [
    "clifford_group = [qt.to_super(U) for U in qt.qubit_clifford_group()]\n",
    "len(clifford_group)"
   ]
  },
  {
   "cell_type": "markdown",
   "metadata": {},
   "source": [
    "We can now define what a sequence is, given a particular noise map $\\Lambda$."
   ]
  },
  {
   "cell_type": "code",
   "execution_count": 5,
   "metadata": {
    "collapsed": true
   },
   "outputs": [],
   "source": [
    "def sequence(m, lambda_):\n",
    "    gates = np.random.choice(clifford_group, size=(m))\n",
    "    S_accumulator = qt.to_super(qt.qeye(2))\n",
    "    \n",
    "    for S in reversed(gates):\n",
    "        S_accumulator *= lambda_ * S\n",
    "    \n",
    "    return S_accumulator"
   ]
  },
  {
   "cell_type": "markdown",
   "metadata": {},
   "source": [
    "Given this definition, we are now equipped to define our experimental protocol for a preparation $\\rho$ and a measurement $Q$. We will return the exact expectation, corresponding to the limit that very large numbers of shots are taken for each sequence. That is, we will consider only the between-sequence to the variance in each datum, and not the within-sequence variance."
   ]
  },
  {
   "cell_type": "code",
   "execution_count": 6,
   "metadata": {
    "collapsed": true
   },
   "outputs": [],
   "source": [
    "def measure_sequence(S, rho, Q):\n",
    "    return (Q * qt.vector_to_operator(S * qt.operator_to_vector(rho))).tr() ** 2\n",
    "\n",
    "def measure_sequence_purity(S, rho):\n",
    "    return (qt.vector_to_operator(S * qt.operator_to_vector(rho)) ** 2).tr()"
   ]
  },
  {
   "cell_type": "markdown",
   "metadata": {},
   "source": [
    "For example, suppose that $\\Lambda[\\rho] = 0.99 e^{-0.001 \\sigma_x}[\\rho]e^{\\text{h. c.}} + 0.01 \\frac{\\mathbb{1}}2$."
   ]
  },
  {
   "cell_type": "code",
   "execution_count": 7,
   "metadata": {
    "collapsed": false
   },
   "outputs": [
    {
     "data": {
      "text/latex": [
       "Quantum object: dims = [[[2], [2]], [[2], [2]]], shape = [4, 4], type = super, isherm = True\\begin{equation*}\\left(\\begin{array}{*{11}c}0.500 & 0.0 & 0.0 & 0.500\\\\0.0 & 0.0 & 0.0 & 0.0\\\\0.0 & 0.0 & 0.0 & 0.0\\\\0.500 & 0.0 & 0.0 & 0.500\\\\\\end{array}\\right)\\end{equation*}"
      ],
      "text/plain": [
       "Quantum object: dims = [[[2], [2]], [[2], [2]]], shape = [4, 4], type = super, isherm = True\n",
       "Qobj data =\n",
       "[[ 0.5  0.   0.   0.5]\n",
       " [ 0.   0.   0.   0. ]\n",
       " [ 0.   0.   0.   0. ]\n",
       " [ 0.5  0.   0.   0.5]]"
      ]
     },
     "execution_count": 7,
     "metadata": {},
     "output_type": "execute_result"
    }
   ],
   "source": [
    "depol = qt.to_super(qt.Qobj(np.eye(4), dims=qt.to_super(qt.qeye(2)).dims, superrep='choi') / 2)\n",
    "depol"
   ]
  },
  {
   "cell_type": "code",
   "execution_count": 8,
   "metadata": {
    "collapsed": false
   },
   "outputs": [],
   "source": [
    "lambda_ = 0.99 * qt.to_super((-0.001j * qt.sigmax()).expm()) + 0.01 * depol\n",
    "Q = qt.ket2dm(qt.basis(2, 0))\n",
    "rho = qt.ket2dm(qt.basis(2, 0))"
   ]
  },
  {
   "cell_type": "code",
   "execution_count": 9,
   "metadata": {
    "collapsed": false
   },
   "outputs": [],
   "source": [
    "def unitarity_experiment(lambda_, ms, n_sequences_per_m, measurement_fn):\n",
    "    us = np.empty_like(ms, dtype=float)\n",
    "    progbar = qt.ui.TextProgressBar(len(ms))\n",
    "    \n",
    "    for idx_m, m in enumerate(ms):\n",
    "        us[idx_m] = np.mean([\n",
    "            measurement_fn(sequence(m, lambda_))\n",
    "            for idx_sequence in range(n_sequences_per_m)\n",
    "        ])\n",
    "        progbar.update(idx_m + 1)\n",
    "        \n",
    "    return us"
   ]
  },
  {
   "cell_type": "code",
   "execution_count": 10,
   "metadata": {
    "collapsed": false
   },
   "outputs": [
    {
     "name": "stdout",
     "output_type": "stream",
     "text": [
      "=== Q ===\n"
     ]
    },
    {
     "name": "stderr",
     "output_type": "stream",
     "text": [
      "C:\\Anaconda2\\envs\\unitarity-example\\lib\\site-packages\\ipykernel\\__main__.py:8: ComplexWarning: Casting complex values to real discards the imaginary part\n"
     ]
    },
    {
     "name": "stdout",
     "output_type": "stream",
     "text": [
      "10.0%. Run time:   2.97s. Est. time left: 00:00:00:26\n",
      "20.0%. Run time:   9.35s. Est. time left: 00:00:00:37\n",
      "30.0%. Run time:  20.64s. Est. time left: 00:00:00:48\n",
      "40.0%. Run time:  32.39s. Est. time left: 00:00:00:48\n",
      "50.0%. Run time:  46.91s. Est. time left: 00:00:00:46\n",
      "60.0%. Run time:  66.63s. Est. time left: 00:00:00:44\n",
      "70.0%. Run time:  86.70s. Est. time left: 00:00:00:37\n",
      "80.0%. Run time: 112.90s. Est. time left: 00:00:00:28\n",
      "90.0%. Run time: 137.62s. Est. time left: 00:00:00:15\n",
      "100.0%. Run time: 172.07s. Est. time left: 00:00:00:00\n",
      "=== Purity ===\n",
      "10.0%. Run time:   4.68s. Est. time left: 00:00:00:42\n",
      "20.0%. Run time:  11.31s. Est. time left: 00:00:00:45\n",
      "30.0%. Run time:  20.35s. Est. time left: 00:00:00:47\n",
      "40.0%. Run time:  33.22s. Est. time left: 00:00:00:49\n",
      "50.0%. Run time:  50.42s. Est. time left: 00:00:00:50\n",
      "60.0%. Run time:  83.46s. Est. time left: 00:00:00:55\n",
      "70.0%. Run time: 133.33s. Est. time left: 00:00:00:57\n",
      "80.0%. Run time: 184.45s. Est. time left: 00:00:00:46\n",
      "90.0%. Run time: 229.93s. Est. time left: 00:00:00:25\n",
      "100.0%. Run time: 282.88s. Est. time left: 00:00:00:00\n"
     ]
    }
   ],
   "source": [
    "ms = np.arange(1, 101, 5)\n",
    "print('=== Q ===')\n",
    "q_measurements = unitarity_experiment(lambda_, ms, 300, partial(measure_sequence, rho=rho, Q=Q))\n",
    "print('=== Purity ===')\n",
    "purity_measurements = unitarity_experiment(lambda_, ms, 300, partial(measure_sequence_purity, rho=rho))"
   ]
  },
  {
   "cell_type": "code",
   "execution_count": 11,
   "metadata": {
    "collapsed": true
   },
   "outputs": [],
   "source": [
    "def rb_model(ms, p, A, B):\n",
    "    return A * p ** ms + B"
   ]
  },
  {
   "cell_type": "code",
   "execution_count": 12,
   "metadata": {
    "collapsed": true
   },
   "outputs": [],
   "source": [
    "rb_fit = partial(curve_fit, maxfev=2000, p0=[0.9, 1, 0])"
   ]
  },
  {
   "cell_type": "code",
   "execution_count": 13,
   "metadata": {
    "collapsed": false
   },
   "outputs": [
    {
     "name": "stdout",
     "output_type": "stream",
     "text": [
      "\n",
      "Fit from Q:       0.992087\n",
      "Fit from purity:  0.980100\n",
      "Actual unitarity: 0.980100\n",
      "\n"
     ]
    }
   ],
   "source": [
    "q_fit = rb_fit(rb_model, ms - 1, q_measurements)[0]\n",
    "purity_fit = rb_fit(rb_model, ms - 1, purity_measurements)[0]\n",
    "print(\"\"\"\n",
    "Fit from Q:       {:0.6f}\n",
    "Fit from purity:  {:0.6f}\n",
    "Actual unitarity: {:0.6f}\n",
    "\"\"\".format(q_fit[0], purity_fit[0], qt.unitarity(lambda_)))"
   ]
  },
  {
   "cell_type": "code",
   "execution_count": 14,
   "metadata": {
    "collapsed": false
   },
   "outputs": [
    {
     "data": {
      "text/plain": [
       "<matplotlib.legend.Legend at 0x7d21320>"
      ]
     },
     "execution_count": 14,
     "metadata": {},
     "output_type": "execute_result"
    },
    {
     "data": {
      "image/png": "[encoded data removed]",
      "text/plain": [
       "<matplotlib.figure.Figure at 0x7c9d588>"
      ]
     },
     "metadata": {},
     "output_type": "display_data"
    }
   ],
   "source": [
    "plt.plot(ms, q_measurements, label=r'$Q = |\\psi\\rangle\\langle\\psi|$')\n",
    "plt.plot(ms, purity_measurements, label=r'$\\operatorname{Tr}(\\mathbf{S}_m[\\rho]^2)$')\n",
    "\n",
    "# Reset the color cycle.\n",
    "plt.gca().set_prop_cycle(None)\n",
    "plt.plot(ms, rb_model(ms, *q_fit), '--')\n",
    "plt.plot(ms, rb_model(ms, *purity_fit), '--')\n",
    "\n",
    "\n",
    "plt.xlabel('$m$')\n",
    "plt.ylabel('Signal')\n",
    "plt.legend()"
   ]
  },
  {
   "cell_type": "code",
   "execution_count": null,
   "metadata": {
    "collapsed": true
   },
   "outputs": [],
   "source": []
  }
 ],
 "metadata": {
  "kernelspec": {
   "display_name": "Python 2",
   "language": "python",
   "name": "python2"
  },
  "language_info": {
   "codemirror_mode": {
    "name": "ipython",
    "version": 2
   },
   "file_extension": ".py",
   "mimetype": "text/x-python",
   "name": "python",
   "nbconvert_exporter": "python",
   "pygments_lexer": "ipython2",
   "version": "2.7.12"
  },
  "widgets": {
   "state": {},
   "version": "1.1.2"
  }
 },
 "nbformat": 4,
 "nbformat_minor": 0
}
